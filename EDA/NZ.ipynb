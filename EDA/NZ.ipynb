{
 "cells": [
  {
   "cell_type": "code",
   "execution_count": 1,
   "metadata": {},
   "outputs": [],
   "source": [
    "import pandas as pd\n",
    "import numpy as np\n",
    "import matplotlib.pyplot as plt\n",
    "import seaborn as sns"
   ]
  },
  {
   "cell_type": "code",
   "execution_count": 22,
   "metadata": {},
   "outputs": [
    {
     "data": {
      "text/html": [
       "<div>\n",
       "<style scoped>\n",
       "    .dataframe tbody tr th:only-of-type {\n",
       "        vertical-align: middle;\n",
       "    }\n",
       "\n",
       "    .dataframe tbody tr th {\n",
       "        vertical-align: top;\n",
       "    }\n",
       "\n",
       "    .dataframe thead th {\n",
       "        text-align: right;\n",
       "    }\n",
       "</style>\n",
       "<table border=\"1\" class=\"dataframe\">\n",
       "  <thead>\n",
       "    <tr style=\"text-align: right;\">\n",
       "      <th></th>\n",
       "      <th>0</th>\n",
       "      <th>Code</th>\n",
       "      <th>Trt</th>\n",
       "      <th>0 day</th>\n",
       "      <th>3rd Day</th>\n",
       "      <th>7th day</th>\n",
       "      <th>15th day</th>\n",
       "      <th>30th day</th>\n",
       "      <th>45th day</th>\n",
       "      <th>60th day</th>\n",
       "      <th>Average</th>\n",
       "    </tr>\n",
       "  </thead>\n",
       "  <tbody>\n",
       "    <tr>\n",
       "      <th>0</th>\n",
       "      <td>1</td>\n",
       "      <td>1</td>\n",
       "      <td>11/T3</td>\n",
       "      <td>NaN</td>\n",
       "      <td>NaN</td>\n",
       "      <td>NaN</td>\n",
       "      <td>NaN</td>\n",
       "      <td>6.40</td>\n",
       "      <td>6.50</td>\n",
       "      <td>NaN</td>\n",
       "      <td>6.450</td>\n",
       "    </tr>\n",
       "    <tr>\n",
       "      <th>1</th>\n",
       "      <td>2</td>\n",
       "      <td>1</td>\n",
       "      <td>29/T3</td>\n",
       "      <td>NaN</td>\n",
       "      <td>NaN</td>\n",
       "      <td>NaN</td>\n",
       "      <td>NaN</td>\n",
       "      <td>6.20</td>\n",
       "      <td>6.35</td>\n",
       "      <td>NaN</td>\n",
       "      <td>6.275</td>\n",
       "    </tr>\n",
       "    <tr>\n",
       "      <th>2</th>\n",
       "      <td>3</td>\n",
       "      <td>1</td>\n",
       "      <td>25/T3</td>\n",
       "      <td>NaN</td>\n",
       "      <td>NaN</td>\n",
       "      <td>NaN</td>\n",
       "      <td>NaN</td>\n",
       "      <td>6.25</td>\n",
       "      <td>6.40</td>\n",
       "      <td>NaN</td>\n",
       "      <td>6.325</td>\n",
       "    </tr>\n",
       "    <tr>\n",
       "      <th>3</th>\n",
       "      <td>4</td>\n",
       "      <td>1</td>\n",
       "      <td>3/T3</td>\n",
       "      <td>5.97</td>\n",
       "      <td>5.47</td>\n",
       "      <td>NaN</td>\n",
       "      <td>5.77</td>\n",
       "      <td>6.24</td>\n",
       "      <td>6.45</td>\n",
       "      <td>NaN</td>\n",
       "      <td>5.980</td>\n",
       "    </tr>\n",
       "    <tr>\n",
       "      <th>4</th>\n",
       "      <td>5</td>\n",
       "      <td>1</td>\n",
       "      <td>34/T3</td>\n",
       "      <td>NaN</td>\n",
       "      <td>NaN</td>\n",
       "      <td>NaN</td>\n",
       "      <td>NaN</td>\n",
       "      <td>6.50</td>\n",
       "      <td>6.71</td>\n",
       "      <td>NaN</td>\n",
       "      <td>6.605</td>\n",
       "    </tr>\n",
       "  </tbody>\n",
       "</table>\n",
       "</div>"
      ],
      "text/plain": [
       "   0  Code    Trt  0 day  3rd Day  7th day  15th day  30th day  45th day  \\\n",
       "0  1     1  11/T3    NaN      NaN      NaN       NaN      6.40      6.50   \n",
       "1  2     1  29/T3    NaN      NaN      NaN       NaN      6.20      6.35   \n",
       "2  3     1  25/T3    NaN      NaN      NaN       NaN      6.25      6.40   \n",
       "3  4     1   3/T3   5.97     5.47      NaN      5.77      6.24      6.45   \n",
       "4  5     1  34/T3    NaN      NaN      NaN       NaN      6.50      6.71   \n",
       "\n",
       "   60th day  Average  \n",
       "0       NaN    6.450  \n",
       "1       NaN    6.275  \n",
       "2       NaN    6.325  \n",
       "3       NaN    5.980  \n",
       "4       NaN    6.605  "
      ]
     },
     "execution_count": 22,
     "metadata": {},
     "output_type": "execute_result"
    }
   ],
   "source": [
    "d = pd.read_excel('C:/Users/Gulfam/Desktop/Data Sci/EDA/d.xlsx')\n",
    "d.head()"
   ]
  },
  {
   "cell_type": "code",
   "execution_count": 23,
   "metadata": {},
   "outputs": [
    {
     "data": {
      "text/plain": [
       "(34, 11)"
      ]
     },
     "execution_count": 23,
     "metadata": {},
     "output_type": "execute_result"
    }
   ],
   "source": [
    "d.shape"
   ]
  },
  {
   "cell_type": "code",
   "execution_count": 24,
   "metadata": {},
   "outputs": [
    {
     "data": {
      "text/plain": [
       "0            0\n",
       "Code         0\n",
       "Trt          0\n",
       "0 day       17\n",
       "3rd Day     25\n",
       "7th day     25\n",
       "15th day    17\n",
       "30th day     0\n",
       "45th day     0\n",
       "60th day    34\n",
       "Average      0\n",
       "dtype: int64"
      ]
     },
     "execution_count": 24,
     "metadata": {},
     "output_type": "execute_result"
    }
   ],
   "source": [
    "d.isnull().sum()"
   ]
  },
  {
   "cell_type": "code",
   "execution_count": 26,
   "metadata": {},
   "outputs": [
    {
     "data": {
      "text/plain": [
       "Index([         0,     'Code',      'Trt',    '0 day',  '3rd Day',  '7th day',\n",
       "       '15th day', '30th day', '45th day', '60th day',  'Average'],\n",
       "      dtype='object')"
      ]
     },
     "execution_count": 26,
     "metadata": {},
     "output_type": "execute_result"
    }
   ],
   "source": [
    "d.columns"
   ]
  },
  {
   "cell_type": "code",
   "execution_count": 34,
   "metadata": {},
   "outputs": [
    {
     "data": {
      "text/html": [
       "<div>\n",
       "<style scoped>\n",
       "    .dataframe tbody tr th:only-of-type {\n",
       "        vertical-align: middle;\n",
       "    }\n",
       "\n",
       "    .dataframe tbody tr th {\n",
       "        vertical-align: top;\n",
       "    }\n",
       "\n",
       "    .dataframe thead th {\n",
       "        text-align: right;\n",
       "    }\n",
       "</style>\n",
       "<table border=\"1\" class=\"dataframe\">\n",
       "  <thead>\n",
       "    <tr style=\"text-align: right;\">\n",
       "      <th></th>\n",
       "      <th>0</th>\n",
       "      <th>Code</th>\n",
       "      <th>0 day</th>\n",
       "      <th>3rd Day</th>\n",
       "      <th>7th day</th>\n",
       "      <th>15th day</th>\n",
       "      <th>30th day</th>\n",
       "      <th>45th day</th>\n",
       "      <th>60th day</th>\n",
       "      <th>Average</th>\n",
       "    </tr>\n",
       "  </thead>\n",
       "  <tbody>\n",
       "    <tr>\n",
       "      <th>count</th>\n",
       "      <td>34.000000</td>\n",
       "      <td>34.000000</td>\n",
       "      <td>17.000000</td>\n",
       "      <td>9.000000</td>\n",
       "      <td>9.000000</td>\n",
       "      <td>17.000000</td>\n",
       "      <td>34.000000</td>\n",
       "      <td>34.000000</td>\n",
       "      <td>0.0</td>\n",
       "      <td>34.000000</td>\n",
       "    </tr>\n",
       "    <tr>\n",
       "      <th>mean</th>\n",
       "      <td>17.500000</td>\n",
       "      <td>2.382353</td>\n",
       "      <td>6.097059</td>\n",
       "      <td>5.610000</td>\n",
       "      <td>5.566667</td>\n",
       "      <td>5.848824</td>\n",
       "      <td>6.292353</td>\n",
       "      <td>6.385000</td>\n",
       "      <td>NaN</td>\n",
       "      <td>6.195436</td>\n",
       "    </tr>\n",
       "    <tr>\n",
       "      <th>std</th>\n",
       "      <td>9.958246</td>\n",
       "      <td>1.073502</td>\n",
       "      <td>0.112348</td>\n",
       "      <td>0.179444</td>\n",
       "      <td>0.281158</td>\n",
       "      <td>0.224802</td>\n",
       "      <td>0.180102</td>\n",
       "      <td>0.214889</td>\n",
       "      <td>NaN</td>\n",
       "      <td>0.217758</td>\n",
       "    </tr>\n",
       "    <tr>\n",
       "      <th>min</th>\n",
       "      <td>1.000000</td>\n",
       "      <td>1.000000</td>\n",
       "      <td>5.950000</td>\n",
       "      <td>5.330000</td>\n",
       "      <td>5.110000</td>\n",
       "      <td>5.600000</td>\n",
       "      <td>6.010000</td>\n",
       "      <td>5.980000</td>\n",
       "      <td>NaN</td>\n",
       "      <td>5.758333</td>\n",
       "    </tr>\n",
       "    <tr>\n",
       "      <th>25%</th>\n",
       "      <td>9.250000</td>\n",
       "      <td>1.250000</td>\n",
       "      <td>6.000000</td>\n",
       "      <td>5.500000</td>\n",
       "      <td>5.500000</td>\n",
       "      <td>5.640000</td>\n",
       "      <td>6.142500</td>\n",
       "      <td>6.235000</td>\n",
       "      <td>NaN</td>\n",
       "      <td>6.025625</td>\n",
       "    </tr>\n",
       "    <tr>\n",
       "      <th>50%</th>\n",
       "      <td>17.500000</td>\n",
       "      <td>2.000000</td>\n",
       "      <td>6.100000</td>\n",
       "      <td>5.550000</td>\n",
       "      <td>5.680000</td>\n",
       "      <td>5.770000</td>\n",
       "      <td>6.260000</td>\n",
       "      <td>6.350000</td>\n",
       "      <td>NaN</td>\n",
       "      <td>6.159500</td>\n",
       "    </tr>\n",
       "    <tr>\n",
       "      <th>75%</th>\n",
       "      <td>25.750000</td>\n",
       "      <td>3.000000</td>\n",
       "      <td>6.200000</td>\n",
       "      <td>5.750000</td>\n",
       "      <td>5.760000</td>\n",
       "      <td>6.000000</td>\n",
       "      <td>6.445000</td>\n",
       "      <td>6.487500</td>\n",
       "      <td>NaN</td>\n",
       "      <td>6.325000</td>\n",
       "    </tr>\n",
       "    <tr>\n",
       "      <th>max</th>\n",
       "      <td>34.000000</td>\n",
       "      <td>4.000000</td>\n",
       "      <td>6.270000</td>\n",
       "      <td>5.900000</td>\n",
       "      <td>5.850000</td>\n",
       "      <td>6.280000</td>\n",
       "      <td>6.600000</td>\n",
       "      <td>6.810000</td>\n",
       "      <td>NaN</td>\n",
       "      <td>6.650000</td>\n",
       "    </tr>\n",
       "  </tbody>\n",
       "</table>\n",
       "</div>"
      ],
      "text/plain": [
       "               0       Code      0 day   3rd Day   7th day   15th day  \\\n",
       "count  34.000000  34.000000  17.000000  9.000000  9.000000  17.000000   \n",
       "mean   17.500000   2.382353   6.097059  5.610000  5.566667   5.848824   \n",
       "std     9.958246   1.073502   0.112348  0.179444  0.281158   0.224802   \n",
       "min     1.000000   1.000000   5.950000  5.330000  5.110000   5.600000   \n",
       "25%     9.250000   1.250000   6.000000  5.500000  5.500000   5.640000   \n",
       "50%    17.500000   2.000000   6.100000  5.550000  5.680000   5.770000   \n",
       "75%    25.750000   3.000000   6.200000  5.750000  5.760000   6.000000   \n",
       "max    34.000000   4.000000   6.270000  5.900000  5.850000   6.280000   \n",
       "\n",
       "        30th day   45th day  60th day    Average  \n",
       "count  34.000000  34.000000       0.0  34.000000  \n",
       "mean    6.292353   6.385000       NaN   6.195436  \n",
       "std     0.180102   0.214889       NaN   0.217758  \n",
       "min     6.010000   5.980000       NaN   5.758333  \n",
       "25%     6.142500   6.235000       NaN   6.025625  \n",
       "50%     6.260000   6.350000       NaN   6.159500  \n",
       "75%     6.445000   6.487500       NaN   6.325000  \n",
       "max     6.600000   6.810000       NaN   6.650000  "
      ]
     },
     "execution_count": 34,
     "metadata": {},
     "output_type": "execute_result"
    }
   ],
   "source": [
    "d.drop(columns=0)\n",
    "d.describe()"
   ]
  },
  {
   "cell_type": "code",
   "execution_count": 39,
   "metadata": {},
   "outputs": [],
   "source": [
    "\n",
    "\n",
    "dict = {'0 day':'0_day',\n",
    "'3rd Day' :'3rd_day',\n",
    "'7th day':'7th_day',\n",
    "'15th day':'15th_day',\n",
    "'30th day':'30th_day',\n",
    "'45th day':'45th_day',\n",
    "'60th day': '60th_day'}\n",
    "\n",
    "d.rename(columns=dict, inplace=True)\n",
    "\n",
    "\n",
    "\n"
   ]
  },
  {
   "cell_type": "code",
   "execution_count": 42,
   "metadata": {},
   "outputs": [
    {
     "data": {
      "text/plain": [
       "Index([         0,     'Code',      'Trt',    '0_day',  '3rd_day',  '7th_day',\n",
       "       '15th_day', '30th_day', '45th_day', '60th_day',  'Average'],\n",
       "      dtype='object')"
      ]
     },
     "execution_count": 42,
     "metadata": {},
     "output_type": "execute_result"
    }
   ],
   "source": [
    "d.head()\n",
    "d.columns"
   ]
  },
  {
   "cell_type": "code",
   "execution_count": 45,
   "metadata": {},
   "outputs": [
    {
     "data": {
      "text/html": [
       "<div>\n",
       "<style scoped>\n",
       "    .dataframe tbody tr th:only-of-type {\n",
       "        vertical-align: middle;\n",
       "    }\n",
       "\n",
       "    .dataframe tbody tr th {\n",
       "        vertical-align: top;\n",
       "    }\n",
       "\n",
       "    .dataframe thead th {\n",
       "        text-align: right;\n",
       "    }\n",
       "</style>\n",
       "<table border=\"1\" class=\"dataframe\">\n",
       "  <thead>\n",
       "    <tr style=\"text-align: right;\">\n",
       "      <th></th>\n",
       "      <th>0</th>\n",
       "      <th>Code</th>\n",
       "      <th>0_day</th>\n",
       "      <th>3rd_day</th>\n",
       "      <th>7th_day</th>\n",
       "      <th>15th_day</th>\n",
       "      <th>30th_day</th>\n",
       "      <th>45th_day</th>\n",
       "      <th>60th_day</th>\n",
       "      <th>Average</th>\n",
       "    </tr>\n",
       "  </thead>\n",
       "  <tbody>\n",
       "    <tr>\n",
       "      <th>count</th>\n",
       "      <td>34.000000</td>\n",
       "      <td>34.000000</td>\n",
       "      <td>17.000000</td>\n",
       "      <td>9.000000</td>\n",
       "      <td>9.000000</td>\n",
       "      <td>17.000000</td>\n",
       "      <td>34.000000</td>\n",
       "      <td>34.000000</td>\n",
       "      <td>0.0</td>\n",
       "      <td>34.000000</td>\n",
       "    </tr>\n",
       "    <tr>\n",
       "      <th>mean</th>\n",
       "      <td>17.500000</td>\n",
       "      <td>2.382353</td>\n",
       "      <td>6.097059</td>\n",
       "      <td>5.610000</td>\n",
       "      <td>5.566667</td>\n",
       "      <td>5.848824</td>\n",
       "      <td>6.292353</td>\n",
       "      <td>6.385000</td>\n",
       "      <td>NaN</td>\n",
       "      <td>6.195436</td>\n",
       "    </tr>\n",
       "    <tr>\n",
       "      <th>std</th>\n",
       "      <td>9.958246</td>\n",
       "      <td>1.073502</td>\n",
       "      <td>0.112348</td>\n",
       "      <td>0.179444</td>\n",
       "      <td>0.281158</td>\n",
       "      <td>0.224802</td>\n",
       "      <td>0.180102</td>\n",
       "      <td>0.214889</td>\n",
       "      <td>NaN</td>\n",
       "      <td>0.217758</td>\n",
       "    </tr>\n",
       "    <tr>\n",
       "      <th>min</th>\n",
       "      <td>1.000000</td>\n",
       "      <td>1.000000</td>\n",
       "      <td>5.950000</td>\n",
       "      <td>5.330000</td>\n",
       "      <td>5.110000</td>\n",
       "      <td>5.600000</td>\n",
       "      <td>6.010000</td>\n",
       "      <td>5.980000</td>\n",
       "      <td>NaN</td>\n",
       "      <td>5.758333</td>\n",
       "    </tr>\n",
       "    <tr>\n",
       "      <th>25%</th>\n",
       "      <td>9.250000</td>\n",
       "      <td>1.250000</td>\n",
       "      <td>6.000000</td>\n",
       "      <td>5.500000</td>\n",
       "      <td>5.500000</td>\n",
       "      <td>5.640000</td>\n",
       "      <td>6.142500</td>\n",
       "      <td>6.235000</td>\n",
       "      <td>NaN</td>\n",
       "      <td>6.025625</td>\n",
       "    </tr>\n",
       "    <tr>\n",
       "      <th>50%</th>\n",
       "      <td>17.500000</td>\n",
       "      <td>2.000000</td>\n",
       "      <td>6.100000</td>\n",
       "      <td>5.550000</td>\n",
       "      <td>5.680000</td>\n",
       "      <td>5.770000</td>\n",
       "      <td>6.260000</td>\n",
       "      <td>6.350000</td>\n",
       "      <td>NaN</td>\n",
       "      <td>6.159500</td>\n",
       "    </tr>\n",
       "    <tr>\n",
       "      <th>75%</th>\n",
       "      <td>25.750000</td>\n",
       "      <td>3.000000</td>\n",
       "      <td>6.200000</td>\n",
       "      <td>5.750000</td>\n",
       "      <td>5.760000</td>\n",
       "      <td>6.000000</td>\n",
       "      <td>6.445000</td>\n",
       "      <td>6.487500</td>\n",
       "      <td>NaN</td>\n",
       "      <td>6.325000</td>\n",
       "    </tr>\n",
       "    <tr>\n",
       "      <th>max</th>\n",
       "      <td>34.000000</td>\n",
       "      <td>4.000000</td>\n",
       "      <td>6.270000</td>\n",
       "      <td>5.900000</td>\n",
       "      <td>5.850000</td>\n",
       "      <td>6.280000</td>\n",
       "      <td>6.600000</td>\n",
       "      <td>6.810000</td>\n",
       "      <td>NaN</td>\n",
       "      <td>6.650000</td>\n",
       "    </tr>\n",
       "  </tbody>\n",
       "</table>\n",
       "</div>"
      ],
      "text/plain": [
       "               0       Code      0_day   3rd_day   7th_day   15th_day  \\\n",
       "count  34.000000  34.000000  17.000000  9.000000  9.000000  17.000000   \n",
       "mean   17.500000   2.382353   6.097059  5.610000  5.566667   5.848824   \n",
       "std     9.958246   1.073502   0.112348  0.179444  0.281158   0.224802   \n",
       "min     1.000000   1.000000   5.950000  5.330000  5.110000   5.600000   \n",
       "25%     9.250000   1.250000   6.000000  5.500000  5.500000   5.640000   \n",
       "50%    17.500000   2.000000   6.100000  5.550000  5.680000   5.770000   \n",
       "75%    25.750000   3.000000   6.200000  5.750000  5.760000   6.000000   \n",
       "max    34.000000   4.000000   6.270000  5.900000  5.850000   6.280000   \n",
       "\n",
       "        30th_day   45th_day  60th_day    Average  \n",
       "count  34.000000  34.000000       0.0  34.000000  \n",
       "mean    6.292353   6.385000       NaN   6.195436  \n",
       "std     0.180102   0.214889       NaN   0.217758  \n",
       "min     6.010000   5.980000       NaN   5.758333  \n",
       "25%     6.142500   6.235000       NaN   6.025625  \n",
       "50%     6.260000   6.350000       NaN   6.159500  \n",
       "75%     6.445000   6.487500       NaN   6.325000  \n",
       "max     6.600000   6.810000       NaN   6.650000  "
      ]
     },
     "execution_count": 45,
     "metadata": {},
     "output_type": "execute_result"
    }
   ],
   "source": [
    "d.describe(include=[np.number])"
   ]
  },
  {
   "cell_type": "code",
   "execution_count": 46,
   "metadata": {},
   "outputs": [
    {
     "name": "stderr",
     "output_type": "stream",
     "text": [
      "C:\\Users\\Gulfam\\AppData\\Local\\Temp/ipykernel_7724/1214089992.py:1: FutureWarning: Dropping of nuisance columns in DataFrame reductions (with 'numeric_only=None') is deprecated; in a future version this will raise TypeError.  Select only valid columns before calling the reduction.\n",
      "  d.mean()\n"
     ]
    },
    {
     "data": {
      "text/plain": [
       "0           17.500000\n",
       "Code         2.382353\n",
       "0_day        6.097059\n",
       "3rd_day      5.610000\n",
       "7th_day      5.566667\n",
       "15th_day     5.848824\n",
       "30th_day     6.292353\n",
       "45th_day     6.385000\n",
       "60th_day          NaN\n",
       "Average      6.195436\n",
       "dtype: float64"
      ]
     },
     "execution_count": 46,
     "metadata": {},
     "output_type": "execute_result"
    }
   ],
   "source": [
    "d.mean()"
   ]
  },
  {
   "cell_type": "code",
   "execution_count": 47,
   "metadata": {},
   "outputs": [
    {
     "data": {
      "text/html": [
       "<div>\n",
       "<style scoped>\n",
       "    .dataframe tbody tr th:only-of-type {\n",
       "        vertical-align: middle;\n",
       "    }\n",
       "\n",
       "    .dataframe tbody tr th {\n",
       "        vertical-align: top;\n",
       "    }\n",
       "\n",
       "    .dataframe thead th {\n",
       "        text-align: right;\n",
       "    }\n",
       "</style>\n",
       "<table border=\"1\" class=\"dataframe\">\n",
       "  <thead>\n",
       "    <tr style=\"text-align: right;\">\n",
       "      <th></th>\n",
       "      <th>0</th>\n",
       "      <th>Code</th>\n",
       "      <th>0_day</th>\n",
       "      <th>3rd_day</th>\n",
       "      <th>7th_day</th>\n",
       "      <th>15th_day</th>\n",
       "      <th>30th_day</th>\n",
       "      <th>45th_day</th>\n",
       "      <th>60th_day</th>\n",
       "      <th>Average</th>\n",
       "    </tr>\n",
       "  </thead>\n",
       "  <tbody>\n",
       "    <tr>\n",
       "      <th>0</th>\n",
       "      <td>1.000000</td>\n",
       "      <td>0.965200</td>\n",
       "      <td>0.365117</td>\n",
       "      <td>0.502925</td>\n",
       "      <td>-0.367285</td>\n",
       "      <td>-0.289900</td>\n",
       "      <td>-0.190080</td>\n",
       "      <td>-0.564947</td>\n",
       "      <td>NaN</td>\n",
       "      <td>-0.442746</td>\n",
       "    </tr>\n",
       "    <tr>\n",
       "      <th>Code</th>\n",
       "      <td>0.965200</td>\n",
       "      <td>1.000000</td>\n",
       "      <td>0.269421</td>\n",
       "      <td>0.436161</td>\n",
       "      <td>-0.399280</td>\n",
       "      <td>-0.316448</td>\n",
       "      <td>-0.304157</td>\n",
       "      <td>-0.606235</td>\n",
       "      <td>NaN</td>\n",
       "      <td>-0.486312</td>\n",
       "    </tr>\n",
       "    <tr>\n",
       "      <th>0_day</th>\n",
       "      <td>0.365117</td>\n",
       "      <td>0.269421</td>\n",
       "      <td>1.000000</td>\n",
       "      <td>0.526143</td>\n",
       "      <td>-0.173126</td>\n",
       "      <td>-0.024645</td>\n",
       "      <td>-0.039440</td>\n",
       "      <td>-0.081902</td>\n",
       "      <td>NaN</td>\n",
       "      <td>0.080449</td>\n",
       "    </tr>\n",
       "    <tr>\n",
       "      <th>3rd_day</th>\n",
       "      <td>0.502925</td>\n",
       "      <td>0.436161</td>\n",
       "      <td>0.526143</td>\n",
       "      <td>1.000000</td>\n",
       "      <td>0.892357</td>\n",
       "      <td>-0.384063</td>\n",
       "      <td>0.039920</td>\n",
       "      <td>-0.388201</td>\n",
       "      <td>NaN</td>\n",
       "      <td>0.078912</td>\n",
       "    </tr>\n",
       "    <tr>\n",
       "      <th>7th_day</th>\n",
       "      <td>-0.367285</td>\n",
       "      <td>-0.399280</td>\n",
       "      <td>-0.173126</td>\n",
       "      <td>0.892357</td>\n",
       "      <td>1.000000</td>\n",
       "      <td>0.113218</td>\n",
       "      <td>0.087842</td>\n",
       "      <td>0.600918</td>\n",
       "      <td>NaN</td>\n",
       "      <td>0.788048</td>\n",
       "    </tr>\n",
       "    <tr>\n",
       "      <th>15th_day</th>\n",
       "      <td>-0.289900</td>\n",
       "      <td>-0.316448</td>\n",
       "      <td>-0.024645</td>\n",
       "      <td>-0.384063</td>\n",
       "      <td>0.113218</td>\n",
       "      <td>1.000000</td>\n",
       "      <td>0.596832</td>\n",
       "      <td>0.591451</td>\n",
       "      <td>NaN</td>\n",
       "      <td>0.578110</td>\n",
       "    </tr>\n",
       "    <tr>\n",
       "      <th>30th_day</th>\n",
       "      <td>-0.190080</td>\n",
       "      <td>-0.304157</td>\n",
       "      <td>-0.039440</td>\n",
       "      <td>0.039920</td>\n",
       "      <td>0.087842</td>\n",
       "      <td>0.596832</td>\n",
       "      <td>1.000000</td>\n",
       "      <td>0.466189</td>\n",
       "      <td>NaN</td>\n",
       "      <td>0.514437</td>\n",
       "    </tr>\n",
       "    <tr>\n",
       "      <th>45th_day</th>\n",
       "      <td>-0.564947</td>\n",
       "      <td>-0.606235</td>\n",
       "      <td>-0.081902</td>\n",
       "      <td>-0.388201</td>\n",
       "      <td>0.600918</td>\n",
       "      <td>0.591451</td>\n",
       "      <td>0.466189</td>\n",
       "      <td>1.000000</td>\n",
       "      <td>NaN</td>\n",
       "      <td>0.627019</td>\n",
       "    </tr>\n",
       "    <tr>\n",
       "      <th>60th_day</th>\n",
       "      <td>NaN</td>\n",
       "      <td>NaN</td>\n",
       "      <td>NaN</td>\n",
       "      <td>NaN</td>\n",
       "      <td>NaN</td>\n",
       "      <td>NaN</td>\n",
       "      <td>NaN</td>\n",
       "      <td>NaN</td>\n",
       "      <td>NaN</td>\n",
       "      <td>NaN</td>\n",
       "    </tr>\n",
       "    <tr>\n",
       "      <th>Average</th>\n",
       "      <td>-0.442746</td>\n",
       "      <td>-0.486312</td>\n",
       "      <td>0.080449</td>\n",
       "      <td>0.078912</td>\n",
       "      <td>0.788048</td>\n",
       "      <td>0.578110</td>\n",
       "      <td>0.514437</td>\n",
       "      <td>0.627019</td>\n",
       "      <td>NaN</td>\n",
       "      <td>1.000000</td>\n",
       "    </tr>\n",
       "  </tbody>\n",
       "</table>\n",
       "</div>"
      ],
      "text/plain": [
       "                 0      Code     0_day   3rd_day   7th_day  15th_day  \\\n",
       "0         1.000000  0.965200  0.365117  0.502925 -0.367285 -0.289900   \n",
       "Code      0.965200  1.000000  0.269421  0.436161 -0.399280 -0.316448   \n",
       "0_day     0.365117  0.269421  1.000000  0.526143 -0.173126 -0.024645   \n",
       "3rd_day   0.502925  0.436161  0.526143  1.000000  0.892357 -0.384063   \n",
       "7th_day  -0.367285 -0.399280 -0.173126  0.892357  1.000000  0.113218   \n",
       "15th_day -0.289900 -0.316448 -0.024645 -0.384063  0.113218  1.000000   \n",
       "30th_day -0.190080 -0.304157 -0.039440  0.039920  0.087842  0.596832   \n",
       "45th_day -0.564947 -0.606235 -0.081902 -0.388201  0.600918  0.591451   \n",
       "60th_day       NaN       NaN       NaN       NaN       NaN       NaN   \n",
       "Average  -0.442746 -0.486312  0.080449  0.078912  0.788048  0.578110   \n",
       "\n",
       "          30th_day  45th_day  60th_day   Average  \n",
       "0        -0.190080 -0.564947       NaN -0.442746  \n",
       "Code     -0.304157 -0.606235       NaN -0.486312  \n",
       "0_day    -0.039440 -0.081902       NaN  0.080449  \n",
       "3rd_day   0.039920 -0.388201       NaN  0.078912  \n",
       "7th_day   0.087842  0.600918       NaN  0.788048  \n",
       "15th_day  0.596832  0.591451       NaN  0.578110  \n",
       "30th_day  1.000000  0.466189       NaN  0.514437  \n",
       "45th_day  0.466189  1.000000       NaN  0.627019  \n",
       "60th_day       NaN       NaN       NaN       NaN  \n",
       "Average   0.514437  0.627019       NaN  1.000000  "
      ]
     },
     "execution_count": 47,
     "metadata": {},
     "output_type": "execute_result"
    }
   ],
   "source": [
    "d.corr()"
   ]
  },
  {
   "cell_type": "code",
   "execution_count": 48,
   "metadata": {},
   "outputs": [
    {
     "name": "stderr",
     "output_type": "stream",
     "text": [
      "C:\\Users\\Gulfam\\AppData\\Local\\Temp/ipykernel_7724/4080983771.py:1: FutureWarning: Dropping of nuisance columns in DataFrame reductions (with 'numeric_only=None') is deprecated; in a future version this will raise TypeError.  Select only valid columns before calling the reduction.\n",
      "  d.std()\n"
     ]
    },
    {
     "data": {
      "text/plain": [
       "0           9.958246\n",
       "Code        1.073502\n",
       "0_day       0.112348\n",
       "3rd_day     0.179444\n",
       "7th_day     0.281158\n",
       "15th_day    0.224802\n",
       "30th_day    0.180102\n",
       "45th_day    0.214889\n",
       "60th_day         NaN\n",
       "Average     0.217758\n",
       "dtype: float64"
      ]
     },
     "execution_count": 48,
     "metadata": {},
     "output_type": "execute_result"
    }
   ],
   "source": [
    "d.std()"
   ]
  },
  {
   "cell_type": "code",
   "execution_count": 49,
   "metadata": {},
   "outputs": [
    {
     "data": {
      "text/plain": [
       "0            0\n",
       "Code         0\n",
       "Trt          0\n",
       "0_day       17\n",
       "3rd_day     25\n",
       "7th_day     25\n",
       "15th_day    17\n",
       "30th_day     0\n",
       "45th_day     0\n",
       "60th_day    34\n",
       "Average      0\n",
       "dtype: int64"
      ]
     },
     "execution_count": 49,
     "metadata": {},
     "output_type": "execute_result"
    }
   ],
   "source": [
    "d.isnull().sum()"
   ]
  },
  {
   "cell_type": "code",
   "execution_count": 50,
   "metadata": {},
   "outputs": [
    {
     "data": {
      "text/plain": [
       "<AxesSubplot:>"
      ]
     },
     "execution_count": 50,
     "metadata": {},
     "output_type": "execute_result"
    },
    {
     "data": {
      "image/png": "[encoded data removed]",
      "text/plain": [
       "<Figure size 432x288 with 1 Axes>"
      ]
     },
     "metadata": {
      "needs_background": "light"
     },
     "output_type": "display_data"
    }
   ],
   "source": [
    "d.plot()"
   ]
  },
  {
   "cell_type": "code",
   "execution_count": 51,
   "metadata": {},
   "outputs": [
    {
     "data": {
      "text/plain": [
       "array([[<AxesSubplot:title={'center':'0'}>,\n",
       "        <AxesSubplot:title={'center':'Code'}>,\n",
       "        <AxesSubplot:title={'center':'0_day'}>],\n",
       "       [<AxesSubplot:title={'center':'3rd_day'}>,\n",
       "        <AxesSubplot:title={'center':'7th_day'}>,\n",
       "        <AxesSubplot:title={'center':'15th_day'}>],\n",
       "       [<AxesSubplot:title={'center':'30th_day'}>,\n",
       "        <AxesSubplot:title={'center':'45th_day'}>,\n",
       "        <AxesSubplot:title={'center':'60th_day'}>],\n",
       "       [<AxesSubplot:title={'center':'Average'}>, <AxesSubplot:>,\n",
       "        <AxesSubplot:>]], dtype=object)"
      ]
     },
     "execution_count": 51,
     "metadata": {},
     "output_type": "execute_result"
    },
    {
     "data": {
      "image/png": "[encoded data removed]",
      "text/plain": [
       "<Figure size 432x288 with 12 Axes>"
      ]
     },
     "metadata": {
      "needs_background": "light"
     },
     "output_type": "display_data"
    }
   ],
   "source": [
    "d.hist()"
   ]
  },
  {
   "cell_type": "code",
   "execution_count": null,
   "metadata": {},
   "outputs": [],
   "source": []
  },
  {
   "cell_type": "code",
   "execution_count": 52,
   "metadata": {},
   "outputs": [
    {
     "data": {
      "text/plain": [
       "Index([         0,     'Code',      'Trt',    '0_day',  '3rd_day',  '7th_day',\n",
       "       '15th_day', '30th_day', '45th_day', '60th_day',  'Average'],\n",
       "      dtype='object')"
      ]
     },
     "execution_count": 52,
     "metadata": {},
     "output_type": "execute_result"
    }
   ],
   "source": [
    "d.columns"
   ]
  },
  {
   "cell_type": "code",
   "execution_count": 55,
   "metadata": {},
   "outputs": [
    {
     "data": {
      "text/plain": [
       "<AxesSubplot:xlabel='0_day', ylabel='Trt'>"
      ]
     },
     "execution_count": 55,
     "metadata": {},
     "output_type": "execute_result"
    },
    {
     "data": {
      "image/png": "[encoded data removed]",
      "text/plain": [
       "<Figure size 432x288 with 1 Axes>"
      ]
     },
     "metadata": {
      "needs_background": "light"
     },
     "output_type": "display_data"
    }
   ],
   "source": [
    "sns.boxplot(data=d, x = '0_day', y='Trt')"
   ]
  },
  {
   "cell_type": "code",
   "execution_count": null,
   "metadata": {},
   "outputs": [],
   "source": []
  }
 ],
 "metadata": {
  "interpreter": {
   "hash": "9e3d2761e891878ea0e5e3b09308139dfcc38dcc2e8c1e853926a0d47529cdf9"
  },
  "kernelspec": {
   "display_name": "Python 3.10.0 64-bit",
   "language": "python",
   "name": "python3"
  },
  "language_info": {
   "codemirror_mode": {
    "name": "ipython",
    "version": 3
   },
   "file_extension": ".py",
   "mimetype": "text/x-python",
   "name": "python",
   "nbconvert_exporter": "python",
   "pygments_lexer": "ipython3",
   "version": "3.10.0"
  },
  "orig_nbformat": 4
 },
 "nbformat": 4,
 "nbformat_minor": 2
}
